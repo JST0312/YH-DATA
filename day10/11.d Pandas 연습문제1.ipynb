{
 "cells": [
  {
   "cell_type": "code",
   "execution_count": 2,
   "id": "574c585b",
   "metadata": {},
   "outputs": [],
   "source": [
    "import pandas as pd"
   ]
  },
  {
   "cell_type": "markdown",
   "id": "0a79a961",
   "metadata": {},
   "source": [
    "롤 랭킹 데이터 : https://www.kaggle.com/datasnaek/league-of-legends\n",
    "\n",
    "\n",
    "DataUrl = ‘https://raw.githubusercontent.com/Datamanim/pandas/main/lol.csv’"
   ]
  },
  {
   "cell_type": "code",
   "execution_count": 3,
   "id": "b903a0cc",
   "metadata": {},
   "outputs": [],
   "source": [
    "DataUrl = 'https://raw.githubusercontent.com/Datamanim/pandas/main/lol.csv'\n",
    "df = pd.read_csv(DataUrl,sep='\\t')"
   ]
  },
  {
   "cell_type": "code",
   "execution_count": null,
   "id": "fb28e176",
   "metadata": {},
   "outputs": [],
   "source": []
  },
  {
   "cell_type": "markdown",
   "id": "0f9355d7",
   "metadata": {},
   "source": [
    "데이터의 상위 5개 행을 출력하라"
   ]
  },
  {
   "cell_type": "code",
   "execution_count": null,
   "id": "72ad5ef3",
   "metadata": {},
   "outputs": [],
   "source": []
  },
  {
   "cell_type": "markdown",
   "id": "3442a49e",
   "metadata": {},
   "source": [
    "데이터의 행과 열의 갯수를 파악하라"
   ]
  },
  {
   "cell_type": "code",
   "execution_count": null,
   "id": "6e9a3833",
   "metadata": {},
   "outputs": [],
   "source": []
  },
  {
   "cell_type": "markdown",
   "id": "2d463479",
   "metadata": {},
   "source": [
    "전체 컬럼을 출력하라"
   ]
  },
  {
   "cell_type": "code",
   "execution_count": null,
   "id": "26cf74de",
   "metadata": {},
   "outputs": [],
   "source": []
  },
  {
   "cell_type": "markdown",
   "id": "6ab67d49",
   "metadata": {},
   "source": [
    "6번째 컬럼명을 출력하라"
   ]
  },
  {
   "cell_type": "code",
   "execution_count": null,
   "id": "b2911677",
   "metadata": {},
   "outputs": [],
   "source": []
  },
  {
   "cell_type": "markdown",
   "id": "d667457f",
   "metadata": {},
   "source": [
    "6번째 컬럼의 데이터 타입을 확인하라"
   ]
  },
  {
   "cell_type": "code",
   "execution_count": null,
   "id": "1adc2195",
   "metadata": {},
   "outputs": [],
   "source": []
  },
  {
   "cell_type": "markdown",
   "id": "3c07a55c",
   "metadata": {},
   "source": [
    "6번째 컬럼의 3번째 값은 무엇인가?"
   ]
  },
  {
   "cell_type": "code",
   "execution_count": null,
   "id": "0226ff09",
   "metadata": {},
   "outputs": [],
   "source": []
  },
  {
   "cell_type": "code",
   "execution_count": null,
   "id": "1d33a4d4",
   "metadata": {},
   "outputs": [],
   "source": []
  },
  {
   "cell_type": "markdown",
   "id": "f0072e87",
   "metadata": {},
   "source": [
    "제주 날씨,인구에 따른 교통량데이터 : 출처 제주 데이터 허브 \n",
    "\n",
    "\n",
    "DataUrl = ‘https://raw.githubusercontent.com/Datamanim/pandas/main/Jeju.csv’"
   ]
  },
  {
   "cell_type": "code",
   "execution_count": null,
   "id": "c59abb01",
   "metadata": {},
   "outputs": [],
   "source": [
    "DataUrl = 'https://raw.githubusercontent.com/Datamanim/pandas/main/Jeju.csv'\n",
    "df = pd.read_csv(DataUrl,encoding='euc-kr')"
   ]
  },
  {
   "cell_type": "code",
   "execution_count": null,
   "id": "97cce2bd",
   "metadata": {},
   "outputs": [],
   "source": []
  },
  {
   "cell_type": "markdown",
   "id": "4cb99541",
   "metadata": {},
   "source": [
    "데이터 마지막 3개행을 출력하라"
   ]
  },
  {
   "cell_type": "code",
   "execution_count": null,
   "id": "f6cf41f5",
   "metadata": {},
   "outputs": [],
   "source": []
  },
  {
   "cell_type": "markdown",
   "id": "eb031392",
   "metadata": {},
   "source": [
    "각 컬럼의 결측치 숫자를 파악하라"
   ]
  },
  {
   "cell_type": "code",
   "execution_count": null,
   "id": "4e13bd38",
   "metadata": {},
   "outputs": [],
   "source": []
  },
  {
   "cell_type": "markdown",
   "id": "6650e525",
   "metadata": {},
   "source": [
    "각 컬럼의 데이터수, 데이터타입을 한번에 확인하라"
   ]
  },
  {
   "cell_type": "code",
   "execution_count": null,
   "id": "422cc35e",
   "metadata": {},
   "outputs": [],
   "source": []
  },
  {
   "cell_type": "markdown",
   "id": "fe539888",
   "metadata": {},
   "source": [
    "각 수치형 변수의 분포(사분위, 평균, 표준편차, 최대 , 최소)를 확인하라"
   ]
  },
  {
   "cell_type": "code",
   "execution_count": null,
   "id": "ff7a886e",
   "metadata": {},
   "outputs": [],
   "source": []
  },
  {
   "cell_type": "markdown",
   "id": "29c66e8f",
   "metadata": {},
   "source": [
    "거주인구 컬럼의 값들을 출력하라"
   ]
  },
  {
   "cell_type": "code",
   "execution_count": null,
   "id": "4c5dfa35",
   "metadata": {},
   "outputs": [],
   "source": []
  },
  {
   "cell_type": "markdown",
   "id": "8512b2b1",
   "metadata": {},
   "source": [
    "읍면동명 컬럼의 유일값 갯수를 출력하라"
   ]
  },
  {
   "cell_type": "code",
   "execution_count": null,
   "id": "b0672cd8",
   "metadata": {},
   "outputs": [],
   "source": []
  },
  {
   "cell_type": "markdown",
   "id": "03f816ec",
   "metadata": {},
   "source": [
    "읍면동명 컬럼의 유일값을 모두 출력하라"
   ]
  },
  {
   "cell_type": "code",
   "execution_count": null,
   "id": "86a55a2e",
   "metadata": {},
   "outputs": [],
   "source": []
  },
  {
   "cell_type": "code",
   "execution_count": null,
   "id": "8f40ff60",
   "metadata": {},
   "outputs": [],
   "source": []
  },
  {
   "cell_type": "markdown",
   "id": "8ed8531c",
   "metadata": {},
   "source": [
    "식당데이터 : https://github.com/justmarkham/DAT8/blob/master/data/chipotle.tsv\n",
    "\n",
    "\n",
    "DataUrl = ‘https://raw.githubusercontent.com/Datamanim/pandas/main/chipo.csv’"
   ]
  },
  {
   "cell_type": "code",
   "execution_count": null,
   "id": "bfff4c28",
   "metadata": {},
   "outputs": [],
   "source": []
  },
  {
   "cell_type": "code",
   "execution_count": 6,
   "id": "02e6ab3e",
   "metadata": {},
   "outputs": [],
   "source": [
    "DataUrl = 'https://raw.githubusercontent.com/Datamanim/pandas/main/chipo.csv'\n",
    "df = pd.read_csv(DataUrl)"
   ]
  },
  {
   "cell_type": "code",
   "execution_count": null,
   "id": "e5cd5406",
   "metadata": {},
   "outputs": [],
   "source": []
  },
  {
   "cell_type": "markdown",
   "id": "5dbef58d",
   "metadata": {},
   "source": [
    "quantity컬럼 값이 3인 데이터를 추출하여 첫 5행을 출력하라"
   ]
  },
  {
   "cell_type": "code",
   "execution_count": null,
   "id": "a93b8440",
   "metadata": {},
   "outputs": [],
   "source": []
  },
  {
   "cell_type": "markdown",
   "id": "757b8982",
   "metadata": {},
   "source": [
    "quantity컬럼 값이 3인 데이터를 추출하여 index를 0부터 정렬하고 첫 5행을 출력하라"
   ]
  },
  {
   "cell_type": "code",
   "execution_count": null,
   "id": "88ea3a29",
   "metadata": {},
   "outputs": [],
   "source": []
  },
  {
   "cell_type": "markdown",
   "id": "f8ad27cd",
   "metadata": {},
   "source": [
    "quantity , item_price 두개의 컬럼으로 구성된 새로운 데이터 프레임을 만드시오"
   ]
  },
  {
   "cell_type": "code",
   "execution_count": null,
   "id": "5e2cc05d",
   "metadata": {},
   "outputs": [],
   "source": []
  },
  {
   "cell_type": "markdown",
   "id": "44cf633b",
   "metadata": {},
   "source": [
    "item_price 컬럼의 달러표시 문자를 제거하고 float 타입으로 저장하여 new_price 컬럼에 저장하라"
   ]
  },
  {
   "cell_type": "code",
   "execution_count": null,
   "id": "f1fb58e8",
   "metadata": {},
   "outputs": [],
   "source": []
  },
  {
   "cell_type": "markdown",
   "id": "d0357cfd",
   "metadata": {},
   "source": [
    "new_price 컬럼이 5이하의 값을 가지는 데이터프레임을 추출하고, 데이터의 갯수는 몇개인가"
   ]
  },
  {
   "cell_type": "code",
   "execution_count": null,
   "id": "36c4289f",
   "metadata": {},
   "outputs": [],
   "source": []
  },
  {
   "cell_type": "markdown",
   "id": "819c2005",
   "metadata": {},
   "source": [
    "item_name명이 Chicken Salad Bowl 인 데이터 프레임을 추출하고, index 값을 초기화 하여라"
   ]
  },
  {
   "cell_type": "code",
   "execution_count": null,
   "id": "16e699e3",
   "metadata": {},
   "outputs": [],
   "source": []
  },
  {
   "cell_type": "markdown",
   "id": "a6886a97",
   "metadata": {},
   "source": [
    "new_price값이 9 이하이고 item_name 값이 Chicken Salad Bowl 인 데이터 프레임을 추출하라"
   ]
  },
  {
   "cell_type": "code",
   "execution_count": null,
   "id": "48444dcc",
   "metadata": {},
   "outputs": [],
   "source": []
  },
  {
   "cell_type": "markdown",
   "id": "f9da2753",
   "metadata": {},
   "source": [
    "df의 new_price 컬럼 값에 따라 오름차순으로 정리하고 index를 초기화 하여라\n",
    "\n"
   ]
  },
  {
   "cell_type": "code",
   "execution_count": null,
   "id": "daf8fa0b",
   "metadata": {},
   "outputs": [],
   "source": []
  },
  {
   "cell_type": "markdown",
   "id": "83a04188",
   "metadata": {},
   "source": [
    "df의 item_name 컬럼 값중 Chips 포함하는 경우의 데이터를 출력하라"
   ]
  },
  {
   "cell_type": "code",
   "execution_count": null,
   "id": "78ada43a",
   "metadata": {},
   "outputs": [],
   "source": []
  },
  {
   "cell_type": "markdown",
   "id": "65bc0f85",
   "metadata": {},
   "source": [
    "df의 짝수번째 컬럼만을 포함하는 데이터프레임을 출력하라"
   ]
  },
  {
   "cell_type": "code",
   "execution_count": null,
   "id": "ff1ca1a2",
   "metadata": {},
   "outputs": [],
   "source": []
  },
  {
   "cell_type": "markdown",
   "id": "c66f3d49",
   "metadata": {},
   "source": [
    "df의 new_price 컬럼 값에 따라 내림차순으로 정리하고 index를 초기화 하여라"
   ]
  },
  {
   "cell_type": "code",
   "execution_count": null,
   "id": "9bede96c",
   "metadata": {},
   "outputs": [],
   "source": []
  },
  {
   "cell_type": "markdown",
   "id": "2491bb05",
   "metadata": {},
   "source": [
    "df의 item_name 컬럼 값이 Steak Salad 또는 Bowl 인 데이터를 가져오시오"
   ]
  },
  {
   "cell_type": "code",
   "execution_count": null,
   "id": "6d66a14b",
   "metadata": {},
   "outputs": [],
   "source": []
  },
  {
   "cell_type": "code",
   "execution_count": null,
   "id": "e73e1a1a",
   "metadata": {},
   "outputs": [],
   "source": []
  },
  {
   "cell_type": "markdown",
   "id": "bd29a0cb",
   "metadata": {},
   "source": [
    "df의 데이터 중 new_price값이 new_price값의 평균값 이상을 가지는 데이터들을 가져오시오"
   ]
  },
  {
   "cell_type": "code",
   "execution_count": null,
   "id": "688a51b1",
   "metadata": {},
   "outputs": [],
   "source": []
  },
  {
   "cell_type": "markdown",
   "id": "2a962f06",
   "metadata": {},
   "source": [
    "df의 데이터 중 item_name의 값이 Izze 데이터를 Fizzy Lizzy로 수정하라"
   ]
  },
  {
   "cell_type": "code",
   "execution_count": null,
   "id": "fe6d75da",
   "metadata": {},
   "outputs": [],
   "source": []
  },
  {
   "cell_type": "markdown",
   "id": "d16f4c0b",
   "metadata": {},
   "source": [
    "df의 데이터 중 choice_description 값이 NaN 인 데이터의 갯수를 구하여라"
   ]
  },
  {
   "cell_type": "code",
   "execution_count": null,
   "id": "15fcea9d",
   "metadata": {},
   "outputs": [],
   "source": []
  },
  {
   "cell_type": "markdown",
   "id": "57a2c156",
   "metadata": {},
   "source": [
    "df의 데이터 중 choice_description 값이 NaN 인 데이터를 NoData 값으로 대체하라 "
   ]
  },
  {
   "cell_type": "code",
   "execution_count": null,
   "id": "858c616c",
   "metadata": {},
   "outputs": [],
   "source": []
  },
  {
   "cell_type": "markdown",
   "id": "bb331c24",
   "metadata": {},
   "source": [
    "df의 데이터 중 choice_description 값에 Black이 들어가는 경우를 가져오시오"
   ]
  },
  {
   "cell_type": "code",
   "execution_count": null,
   "id": "21fecad2",
   "metadata": {},
   "outputs": [],
   "source": []
  },
  {
   "cell_type": "markdown",
   "id": "a98eb1f2",
   "metadata": {},
   "source": [
    "df의 데이터 중 choice_description 값에 Vegetables 들어가지 않는 경우의 갯수를 출력하라"
   ]
  },
  {
   "cell_type": "code",
   "execution_count": null,
   "id": "325f53be",
   "metadata": {},
   "outputs": [],
   "source": []
  },
  {
   "cell_type": "markdown",
   "id": "7c1950e6",
   "metadata": {},
   "source": [
    "df의 데이터 중 item_name 값이 N으로 시작하는 데이터를 모두 추출하라"
   ]
  },
  {
   "cell_type": "code",
   "execution_count": null,
   "id": "d61d7190",
   "metadata": {},
   "outputs": [],
   "source": []
  },
  {
   "cell_type": "markdown",
   "id": "0db866e3",
   "metadata": {},
   "source": [
    "df의 데이터 중 item_name 값의 단어갯수가 15개 이상인 데이터를 인덱싱하라"
   ]
  },
  {
   "cell_type": "code",
   "execution_count": null,
   "id": "9ac865f3",
   "metadata": {},
   "outputs": [],
   "source": []
  },
  {
   "cell_type": "markdown",
   "id": "daf61d04",
   "metadata": {},
   "source": [
    "df의 데이터 중 new_price값이 lst에 해당하는 경우의 데이터 프레임을 구하고 그 갯수를 출력하라 \n",
    "\n",
    "lst =[1.69, 2.39, 3.39, 4.45, 9.25, 10.98, 11.75, 16.98]"
   ]
  },
  {
   "cell_type": "code",
   "execution_count": null,
   "id": "90283542",
   "metadata": {},
   "outputs": [],
   "source": []
  },
  {
   "cell_type": "code",
   "execution_count": null,
   "id": "53600cbc",
   "metadata": {},
   "outputs": [],
   "source": []
  },
  {
   "cell_type": "markdown",
   "id": "1cb265f2",
   "metadata": {},
   "source": [
    "뉴욕 airBnB : https://www.kaggle.com/ptoscano230382/air-bnb-ny-2019 \n",
    "        \n",
    "DataUrl = ‘https://raw.githubusercontent.com/Datamanim/pandas/main/AB_NYC_2019.csv’"
   ]
  },
  {
   "cell_type": "code",
   "execution_count": 8,
   "id": "7580b3ca",
   "metadata": {},
   "outputs": [],
   "source": [
    "df= pd.read_csv('https://raw.githubusercontent.com/Datamanim/pandas/main/AB_NYC_2019.csv')"
   ]
  },
  {
   "cell_type": "code",
   "execution_count": null,
   "id": "0a5e3f68",
   "metadata": {},
   "outputs": [],
   "source": []
  },
  {
   "cell_type": "markdown",
   "id": "c34789ac",
   "metadata": {},
   "source": [
    "데이터의 각 host_name의 빈도수를 구하고 host_name으로 정렬하여 상위 5개를 출력하라"
   ]
  },
  {
   "cell_type": "code",
   "execution_count": null,
   "id": "ef7c1bce",
   "metadata": {},
   "outputs": [],
   "source": []
  },
  {
   "cell_type": "code",
   "execution_count": null,
   "id": "0f131464",
   "metadata": {},
   "outputs": [],
   "source": []
  },
  {
   "cell_type": "markdown",
   "id": "43e9917a",
   "metadata": {},
   "source": [
    "데이터의 각 host_name의 갯수를 구하고 갯수 기준 내림차순 정렬한 데이터 프레임을 만들어라.  "
   ]
  },
  {
   "cell_type": "code",
   "execution_count": null,
   "id": "e1f4efe4",
   "metadata": {},
   "outputs": [],
   "source": []
  },
  {
   "cell_type": "markdown",
   "id": "69891639",
   "metadata": {},
   "source": [
    "neighbourhood_group의 값에 따른 neighbourhood컬럼 값의 갯수를 구하여라"
   ]
  },
  {
   "cell_type": "code",
   "execution_count": null,
   "id": "9371d278",
   "metadata": {},
   "outputs": [],
   "source": []
  },
  {
   "cell_type": "markdown",
   "id": "6b33b410",
   "metadata": {},
   "source": [
    "neighbourhood_group의 값에 따른 neighbourhood컬럼 값 중 neighbourhood_group그룹의 최댓값들을 출력하라"
   ]
  },
  {
   "cell_type": "code",
   "execution_count": null,
   "id": "0f7c2007",
   "metadata": {},
   "outputs": [],
   "source": []
  },
  {
   "cell_type": "markdown",
   "id": "8864e26d",
   "metadata": {},
   "source": [
    "neighbourhood_group 값에 따른 price값의 평균, 분산, 최대, 최소 값을 구하여라"
   ]
  },
  {
   "cell_type": "code",
   "execution_count": null,
   "id": "d965277d",
   "metadata": {},
   "outputs": [],
   "source": []
  },
  {
   "cell_type": "code",
   "execution_count": null,
   "id": "f9f2b973",
   "metadata": {},
   "outputs": [],
   "source": []
  },
  {
   "cell_type": "code",
   "execution_count": null,
   "id": "0b0670e7",
   "metadata": {},
   "outputs": [],
   "source": []
  },
  {
   "cell_type": "code",
   "execution_count": null,
   "id": "9d3e71ed",
   "metadata": {},
   "outputs": [],
   "source": []
  },
  {
   "cell_type": "code",
   "execution_count": null,
   "id": "9683591a",
   "metadata": {},
   "outputs": [],
   "source": []
  },
  {
   "cell_type": "code",
   "execution_count": null,
   "id": "affefdea",
   "metadata": {},
   "outputs": [],
   "source": []
  },
  {
   "cell_type": "code",
   "execution_count": null,
   "id": "47db0e9d",
   "metadata": {},
   "outputs": [],
   "source": []
  },
  {
   "cell_type": "code",
   "execution_count": null,
   "id": "572d0a70",
   "metadata": {},
   "outputs": [],
   "source": []
  },
  {
   "cell_type": "code",
   "execution_count": null,
   "id": "5594bbe6",
   "metadata": {},
   "outputs": [],
   "source": []
  },
  {
   "cell_type": "code",
   "execution_count": null,
   "id": "deafba2f",
   "metadata": {},
   "outputs": [],
   "source": []
  },
  {
   "cell_type": "code",
   "execution_count": null,
   "id": "a02a3fd3",
   "metadata": {},
   "outputs": [],
   "source": []
  },
  {
   "cell_type": "code",
   "execution_count": null,
   "id": "155f9f57",
   "metadata": {},
   "outputs": [],
   "source": []
  },
  {
   "cell_type": "code",
   "execution_count": null,
   "id": "a948b825",
   "metadata": {},
   "outputs": [],
   "source": []
  },
  {
   "cell_type": "code",
   "execution_count": null,
   "id": "dcd1e686",
   "metadata": {},
   "outputs": [],
   "source": []
  },
  {
   "cell_type": "code",
   "execution_count": null,
   "id": "a9196c52",
   "metadata": {},
   "outputs": [],
   "source": []
  },
  {
   "cell_type": "code",
   "execution_count": null,
   "id": "da8338ff",
   "metadata": {},
   "outputs": [],
   "source": []
  },
  {
   "cell_type": "code",
   "execution_count": null,
   "id": "1463ec7c",
   "metadata": {},
   "outputs": [],
   "source": []
  }
 ],
 "metadata": {
  "kernelspec": {
   "display_name": "Python 3",
   "language": "python",
   "name": "python3"
  },
  "language_info": {
   "codemirror_mode": {
    "name": "ipython",
    "version": 3
   },
   "file_extension": ".py",
   "mimetype": "text/x-python",
   "name": "python",
   "nbconvert_exporter": "python",
   "pygments_lexer": "ipython3",
   "version": "3.8.8"
  }
 },
 "nbformat": 4,
 "nbformat_minor": 5
}
