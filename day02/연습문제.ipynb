{
 "cells": [
  {
   "cell_type": "code",
   "execution_count": 2,
   "id": "542a4881",
   "metadata": {},
   "outputs": [
    {
     "name": "stdout",
     "output_type": "stream",
     "text": [
      "Hello World\n"
     ]
    }
   ],
   "source": [
    "print( 'Hello World' )"
   ]
  },
  {
   "cell_type": "code",
   "execution_count": 4,
   "id": "13313e0d",
   "metadata": {},
   "outputs": [
    {
     "name": "stdout",
     "output_type": "stream",
     "text": [
      "Mary's cosmetics\n"
     ]
    }
   ],
   "source": [
    "print( \"Mary's cosmetics\" )"
   ]
  },
  {
   "cell_type": "code",
   "execution_count": 6,
   "id": "be5588ee",
   "metadata": {},
   "outputs": [
    {
     "name": "stdout",
     "output_type": "stream",
     "text": [
      "신씨가 소리질렀다. \"도둑이야\".\n"
     ]
    }
   ],
   "source": [
    "print( '신씨가 소리질렀다. \"도둑이야\".' )"
   ]
  },
  {
   "cell_type": "code",
   "execution_count": 8,
   "id": "17ab8a2c",
   "metadata": {},
   "outputs": [
    {
     "name": "stdout",
     "output_type": "stream",
     "text": [
      "\"C:\\Windows\"\n"
     ]
    }
   ],
   "source": [
    "print( '\"C:\\Windows\"' )"
   ]
  },
  {
   "cell_type": "code",
   "execution_count": 9,
   "id": "efa3b8ee",
   "metadata": {},
   "outputs": [
    {
     "name": "stdout",
     "output_type": "stream",
     "text": [
      "안녕하세요.\n",
      "만나서\t\t반갑습니다.\n"
     ]
    }
   ],
   "source": [
    "print(\"안녕하세요.\\n만나서\\t\\t반갑습니다.\")"
   ]
  },
  {
   "cell_type": "code",
   "execution_count": null,
   "id": "433139ca",
   "metadata": {},
   "outputs": [],
   "source": []
  },
  {
   "cell_type": "code",
   "execution_count": 14,
   "id": "4ebfef7d",
   "metadata": {},
   "outputs": [
    {
     "name": "stdout",
     "output_type": "stream",
     "text": [
      "오늘은 일요일 입니다. 100 3.2555\n"
     ]
    }
   ],
   "source": [
    "print (\"오늘은\", \"일요일\", \"입니다.\", 100, 3.2555)"
   ]
  },
  {
   "cell_type": "code",
   "execution_count": null,
   "id": "4bc6a265",
   "metadata": {},
   "outputs": [],
   "source": []
  },
  {
   "cell_type": "code",
   "execution_count": 20,
   "id": "6d5f7d6b",
   "metadata": {},
   "outputs": [
    {
     "name": "stdout",
     "output_type": "stream",
     "text": [
      "naver/kakao/sk/samsung\n"
     ]
    }
   ],
   "source": [
    "print('naver' ,'kakao', 'sk', 'samsung', sep='/'  )  "
   ]
  },
  {
   "cell_type": "code",
   "execution_count": null,
   "id": "ae959fe2",
   "metadata": {},
   "outputs": [],
   "source": []
  },
  {
   "cell_type": "code",
   "execution_count": 26,
   "id": "bc4f590e",
   "metadata": {},
   "outputs": [
    {
     "name": "stdout",
     "output_type": "stream",
     "text": [
      "firstsecond\n"
     ]
    }
   ],
   "source": [
    "print(\"first\", end='');print(\"second\")"
   ]
  },
  {
   "cell_type": "code",
   "execution_count": null,
   "id": "2c548ac9",
   "metadata": {},
   "outputs": [],
   "source": []
  },
  {
   "cell_type": "code",
   "execution_count": 28,
   "id": "7796b6c4",
   "metadata": {},
   "outputs": [
    {
     "name": "stdout",
     "output_type": "stream",
     "text": [
      "1.6666666666666667\n"
     ]
    }
   ],
   "source": [
    "print( 5 / 3 )"
   ]
  },
  {
   "cell_type": "code",
   "execution_count": null,
   "id": "9b30adf5",
   "metadata": {},
   "outputs": [],
   "source": []
  },
  {
   "cell_type": "code",
   "execution_count": null,
   "id": "44270226",
   "metadata": {},
   "outputs": [],
   "source": []
  },
  {
   "cell_type": "code",
   "execution_count": 31,
   "id": "c46ad4c3",
   "metadata": {},
   "outputs": [],
   "source": [
    "samsung = 50000"
   ]
  },
  {
   "cell_type": "code",
   "execution_count": 33,
   "id": "6b26ca30",
   "metadata": {},
   "outputs": [
    {
     "data": {
      "text/plain": [
       "500000"
      ]
     },
     "execution_count": 33,
     "metadata": {},
     "output_type": "execute_result"
    }
   ],
   "source": [
    "samsung * 10"
   ]
  },
  {
   "cell_type": "code",
   "execution_count": null,
   "id": "981b6edf",
   "metadata": {},
   "outputs": [],
   "source": []
  },
  {
   "cell_type": "code",
   "execution_count": 34,
   "id": "43b96c1a",
   "metadata": {},
   "outputs": [],
   "source": [
    "total = 298000000000000"
   ]
  },
  {
   "cell_type": "code",
   "execution_count": 35,
   "id": "db438744",
   "metadata": {},
   "outputs": [],
   "source": [
    "price = 50000"
   ]
  },
  {
   "cell_type": "code",
   "execution_count": 37,
   "id": "ce9385c6",
   "metadata": {},
   "outputs": [],
   "source": [
    "per = 15.79"
   ]
  },
  {
   "cell_type": "code",
   "execution_count": null,
   "id": "f71d5f1c",
   "metadata": {},
   "outputs": [],
   "source": []
  },
  {
   "cell_type": "code",
   "execution_count": 38,
   "id": "96c15e39",
   "metadata": {},
   "outputs": [],
   "source": [
    "s = \"hello\""
   ]
  },
  {
   "cell_type": "code",
   "execution_count": 39,
   "id": "1c4dc1b0",
   "metadata": {},
   "outputs": [],
   "source": [
    "t = \"python\""
   ]
  },
  {
   "cell_type": "code",
   "execution_count": 40,
   "id": "56c693c3",
   "metadata": {},
   "outputs": [
    {
     "data": {
      "text/plain": [
       "'hello! python'"
      ]
     },
     "execution_count": 40,
     "metadata": {},
     "output_type": "execute_result"
    }
   ],
   "source": [
    "# hello! python\n",
    "s + '! ' + t"
   ]
  },
  {
   "cell_type": "code",
   "execution_count": 41,
   "id": "234f775b",
   "metadata": {},
   "outputs": [
    {
     "name": "stdout",
     "output_type": "stream",
     "text": [
      "hello! python\n"
     ]
    }
   ],
   "source": [
    "print(s+'!' , t)"
   ]
  },
  {
   "cell_type": "code",
   "execution_count": 43,
   "id": "aa89dada",
   "metadata": {},
   "outputs": [
    {
     "name": "stdout",
     "output_type": "stream",
     "text": [
      "hello! python\n"
     ]
    }
   ],
   "source": [
    "print(s, t, sep='! ')"
   ]
  },
  {
   "cell_type": "code",
   "execution_count": null,
   "id": "4e97a3a0",
   "metadata": {},
   "outputs": [],
   "source": []
  },
  {
   "cell_type": "code",
   "execution_count": 44,
   "id": "5f182687",
   "metadata": {},
   "outputs": [
    {
     "data": {
      "text/plain": [
       "8"
      ]
     },
     "execution_count": 44,
     "metadata": {},
     "output_type": "execute_result"
    }
   ],
   "source": [
    " 2 + 2 * 3 "
   ]
  },
  {
   "cell_type": "code",
   "execution_count": null,
   "id": "0999e8ee",
   "metadata": {},
   "outputs": [],
   "source": []
  },
  {
   "cell_type": "code",
   "execution_count": 45,
   "id": "92e25e9a",
   "metadata": {},
   "outputs": [],
   "source": [
    "a = \"132\""
   ]
  },
  {
   "cell_type": "code",
   "execution_count": 46,
   "id": "fb47673c",
   "metadata": {},
   "outputs": [
    {
     "data": {
      "text/plain": [
       "str"
      ]
     },
     "execution_count": 46,
     "metadata": {},
     "output_type": "execute_result"
    }
   ],
   "source": [
    "type(a)"
   ]
  },
  {
   "cell_type": "code",
   "execution_count": null,
   "id": "cf6a3699",
   "metadata": {},
   "outputs": [],
   "source": []
  },
  {
   "cell_type": "code",
   "execution_count": 48,
   "id": "f1205fc5",
   "metadata": {},
   "outputs": [],
   "source": [
    "num_str = \"720\""
   ]
  },
  {
   "cell_type": "code",
   "execution_count": 49,
   "id": "4ac8d53b",
   "metadata": {},
   "outputs": [
    {
     "data": {
      "text/plain": [
       "str"
      ]
     },
     "execution_count": 49,
     "metadata": {},
     "output_type": "execute_result"
    }
   ],
   "source": [
    "type(num_str)"
   ]
  },
  {
   "cell_type": "code",
   "execution_count": 50,
   "id": "26b81a8b",
   "metadata": {},
   "outputs": [
    {
     "data": {
      "text/plain": [
       "720"
      ]
     },
     "execution_count": 50,
     "metadata": {},
     "output_type": "execute_result"
    }
   ],
   "source": [
    "int(num_str)"
   ]
  },
  {
   "cell_type": "code",
   "execution_count": null,
   "id": "31cd39fd",
   "metadata": {},
   "outputs": [],
   "source": []
  },
  {
   "cell_type": "code",
   "execution_count": 51,
   "id": "d83649e2",
   "metadata": {},
   "outputs": [],
   "source": [
    "num = 100"
   ]
  },
  {
   "cell_type": "code",
   "execution_count": 52,
   "id": "62c5cf0c",
   "metadata": {},
   "outputs": [
    {
     "data": {
      "text/plain": [
       "int"
      ]
     },
     "execution_count": 52,
     "metadata": {},
     "output_type": "execute_result"
    }
   ],
   "source": [
    "type(num)"
   ]
  },
  {
   "cell_type": "code",
   "execution_count": 53,
   "id": "2ac8a4fd",
   "metadata": {},
   "outputs": [
    {
     "data": {
      "text/plain": [
       "'100'"
      ]
     },
     "execution_count": 53,
     "metadata": {},
     "output_type": "execute_result"
    }
   ],
   "source": [
    "str( num )"
   ]
  },
  {
   "cell_type": "code",
   "execution_count": null,
   "id": "72abe545",
   "metadata": {},
   "outputs": [],
   "source": []
  },
  {
   "cell_type": "code",
   "execution_count": 54,
   "id": "2760d100",
   "metadata": {},
   "outputs": [],
   "source": [
    "year = \"2020\""
   ]
  },
  {
   "cell_type": "code",
   "execution_count": 63,
   "id": "56f15ac0",
   "metadata": {},
   "outputs": [],
   "source": [
    "year = int(year)"
   ]
  },
  {
   "cell_type": "code",
   "execution_count": 64,
   "id": "7b4f8fec",
   "metadata": {},
   "outputs": [
    {
     "data": {
      "text/plain": [
       "2019"
      ]
     },
     "execution_count": 64,
     "metadata": {},
     "output_type": "execute_result"
    }
   ],
   "source": [
    "year - 1"
   ]
  },
  {
   "cell_type": "code",
   "execution_count": 65,
   "id": "8d1c386c",
   "metadata": {},
   "outputs": [
    {
     "data": {
      "text/plain": [
       "2018"
      ]
     },
     "execution_count": 65,
     "metadata": {},
     "output_type": "execute_result"
    }
   ],
   "source": [
    "year - 2"
   ]
  },
  {
   "cell_type": "code",
   "execution_count": null,
   "id": "5df3d7ed",
   "metadata": {},
   "outputs": [],
   "source": []
  },
  {
   "cell_type": "code",
   "execution_count": 66,
   "id": "ba358a63",
   "metadata": {},
   "outputs": [],
   "source": [
    "price = 48584"
   ]
  },
  {
   "cell_type": "code",
   "execution_count": 67,
   "id": "5ece2ed1",
   "metadata": {},
   "outputs": [
    {
     "data": {
      "text/plain": [
       "1749024"
      ]
     },
     "execution_count": 67,
     "metadata": {},
     "output_type": "execute_result"
    }
   ],
   "source": [
    "price * 36"
   ]
  },
  {
   "cell_type": "code",
   "execution_count": null,
   "id": "d9caa857",
   "metadata": {},
   "outputs": [],
   "source": []
  },
  {
   "cell_type": "code",
   "execution_count": null,
   "id": "0b54eadd",
   "metadata": {},
   "outputs": [],
   "source": []
  },
  {
   "cell_type": "code",
   "execution_count": 68,
   "id": "cab62bdd",
   "metadata": {},
   "outputs": [],
   "source": [
    "letters = 'python'"
   ]
  },
  {
   "cell_type": "code",
   "execution_count": 69,
   "id": "4fd7594e",
   "metadata": {},
   "outputs": [
    {
     "data": {
      "text/plain": [
       "'p'"
      ]
     },
     "execution_count": 69,
     "metadata": {},
     "output_type": "execute_result"
    }
   ],
   "source": [
    "letters[0]"
   ]
  },
  {
   "cell_type": "code",
   "execution_count": 70,
   "id": "907c5ce9",
   "metadata": {},
   "outputs": [
    {
     "data": {
      "text/plain": [
       "'t'"
      ]
     },
     "execution_count": 70,
     "metadata": {},
     "output_type": "execute_result"
    }
   ],
   "source": [
    "letters[2]"
   ]
  },
  {
   "cell_type": "code",
   "execution_count": 71,
   "id": "13605503",
   "metadata": {},
   "outputs": [
    {
     "data": {
      "text/plain": [
       "'p t'"
      ]
     },
     "execution_count": 71,
     "metadata": {},
     "output_type": "execute_result"
    }
   ],
   "source": [
    "letters[0] + ' ' + letters[2]"
   ]
  },
  {
   "cell_type": "code",
   "execution_count": 72,
   "id": "5620a7e5",
   "metadata": {},
   "outputs": [
    {
     "name": "stdout",
     "output_type": "stream",
     "text": [
      "p t\n"
     ]
    }
   ],
   "source": [
    "print(letters[0] + ' ' + letters[2])"
   ]
  },
  {
   "cell_type": "code",
   "execution_count": 74,
   "id": "3ed09b4c",
   "metadata": {},
   "outputs": [
    {
     "name": "stdout",
     "output_type": "stream",
     "text": [
      "p t\n"
     ]
    }
   ],
   "source": [
    "print(letters[0] , letters[2])"
   ]
  },
  {
   "cell_type": "code",
   "execution_count": null,
   "id": "45cffc6d",
   "metadata": {},
   "outputs": [],
   "source": []
  },
  {
   "cell_type": "code",
   "execution_count": 75,
   "id": "6e4a3952",
   "metadata": {},
   "outputs": [],
   "source": [
    "license_plate = \"24가 2210\""
   ]
  },
  {
   "cell_type": "code",
   "execution_count": 79,
   "id": "abaea837",
   "metadata": {},
   "outputs": [
    {
     "data": {
      "text/plain": [
       "'2210'"
      ]
     },
     "execution_count": 79,
     "metadata": {},
     "output_type": "execute_result"
    }
   ],
   "source": [
    "license_plate[ -4 : ]"
   ]
  },
  {
   "cell_type": "code",
   "execution_count": null,
   "id": "8b754c9e",
   "metadata": {},
   "outputs": [],
   "source": []
  },
  {
   "cell_type": "code",
   "execution_count": 80,
   "id": "39f5ffe5",
   "metadata": {},
   "outputs": [],
   "source": [
    "string = \"홀짝홀짝홀짝\""
   ]
  },
  {
   "cell_type": "code",
   "execution_count": 84,
   "id": "7f48be12",
   "metadata": {},
   "outputs": [
    {
     "data": {
      "text/plain": [
       "'홀홀홀'"
      ]
     },
     "execution_count": 84,
     "metadata": {},
     "output_type": "execute_result"
    }
   ],
   "source": [
    "string[ : :2]"
   ]
  },
  {
   "cell_type": "code",
   "execution_count": 86,
   "id": "ca59539f",
   "metadata": {},
   "outputs": [],
   "source": [
    "string = \"PYTHON\""
   ]
  },
  {
   "cell_type": "code",
   "execution_count": 89,
   "id": "bf1c949d",
   "metadata": {},
   "outputs": [
    {
     "data": {
      "text/plain": [
       "'NOHTYP'"
      ]
     },
     "execution_count": 89,
     "metadata": {},
     "output_type": "execute_result"
    }
   ],
   "source": [
    "string[: : -1]"
   ]
  },
  {
   "cell_type": "code",
   "execution_count": null,
   "id": "4aeaa64c",
   "metadata": {},
   "outputs": [],
   "source": []
  },
  {
   "cell_type": "code",
   "execution_count": 90,
   "id": "0a5678ce",
   "metadata": {},
   "outputs": [],
   "source": [
    "phone_number = \"010-1111-2222\""
   ]
  },
  {
   "cell_type": "code",
   "execution_count": 91,
   "id": "18ea4fd7",
   "metadata": {},
   "outputs": [
    {
     "data": {
      "text/plain": [
       "'010-1111-2222'"
      ]
     },
     "execution_count": 91,
     "metadata": {},
     "output_type": "execute_result"
    }
   ],
   "source": [
    "phone_number"
   ]
  },
  {
   "cell_type": "code",
   "execution_count": 92,
   "id": "81c9d984",
   "metadata": {},
   "outputs": [
    {
     "data": {
      "text/plain": [
       "'010 1111 2222'"
      ]
     },
     "execution_count": 92,
     "metadata": {},
     "output_type": "execute_result"
    }
   ],
   "source": [
    "phone_number.replace('-' , ' ')"
   ]
  },
  {
   "cell_type": "code",
   "execution_count": 93,
   "id": "9aad73ce",
   "metadata": {},
   "outputs": [
    {
     "data": {
      "text/plain": [
       "'01011112222'"
      ]
     },
     "execution_count": 93,
     "metadata": {},
     "output_type": "execute_result"
    }
   ],
   "source": [
    "phone_number.replace('-' , '')"
   ]
  },
  {
   "cell_type": "code",
   "execution_count": null,
   "id": "6ecb5dd7",
   "metadata": {},
   "outputs": [],
   "source": []
  },
  {
   "cell_type": "code",
   "execution_count": 94,
   "id": "d6830dcf",
   "metadata": {},
   "outputs": [],
   "source": [
    "url = \"http://sharebook.kr\""
   ]
  },
  {
   "cell_type": "code",
   "execution_count": 97,
   "id": "37a8355f",
   "metadata": {},
   "outputs": [
    {
     "data": {
      "text/plain": [
       "['http://sharebook', 'kr']"
      ]
     },
     "execution_count": 97,
     "metadata": {},
     "output_type": "execute_result"
    }
   ],
   "source": [
    "url.split('.')"
   ]
  },
  {
   "cell_type": "code",
   "execution_count": null,
   "id": "4ffbed59",
   "metadata": {},
   "outputs": [],
   "source": []
  },
  {
   "cell_type": "code",
   "execution_count": null,
   "id": "f6255af7",
   "metadata": {},
   "outputs": [],
   "source": []
  },
  {
   "cell_type": "code",
   "execution_count": 98,
   "id": "00557cd1",
   "metadata": {},
   "outputs": [],
   "source": [
    "lang = 'python'"
   ]
  },
  {
   "cell_type": "code",
   "execution_count": 100,
   "id": "99d02c79",
   "metadata": {},
   "outputs": [
    {
     "data": {
      "text/plain": [
       "'p'"
      ]
     },
     "execution_count": 100,
     "metadata": {},
     "output_type": "execute_result"
    }
   ],
   "source": [
    "lang[0]"
   ]
  },
  {
   "cell_type": "code",
   "execution_count": 101,
   "id": "5330a613",
   "metadata": {},
   "outputs": [
    {
     "ename": "TypeError",
     "evalue": "'str' object does not support item assignment",
     "output_type": "error",
     "traceback": [
      "\u001b[1;31m---------------------------------------------------------------------------\u001b[0m",
      "\u001b[1;31mTypeError\u001b[0m                                 Traceback (most recent call last)",
      "Cell \u001b[1;32mIn [101], line 1\u001b[0m\n\u001b[1;32m----> 1\u001b[0m lang[\u001b[38;5;241m0\u001b[39m] \u001b[38;5;241m=\u001b[39m \u001b[38;5;124m'\u001b[39m\u001b[38;5;124mP\u001b[39m\u001b[38;5;124m'\u001b[39m\n",
      "\u001b[1;31mTypeError\u001b[0m: 'str' object does not support item assignment"
     ]
    }
   ],
   "source": [
    "lang[0] = 'P'"
   ]
  },
  {
   "cell_type": "code",
   "execution_count": 102,
   "id": "24fac3df",
   "metadata": {},
   "outputs": [
    {
     "data": {
      "text/plain": [
       "'Python'"
      ]
     },
     "execution_count": 102,
     "metadata": {},
     "output_type": "execute_result"
    }
   ],
   "source": [
    "lang.replace('p', 'P')"
   ]
  },
  {
   "cell_type": "code",
   "execution_count": null,
   "id": "d1ef3377",
   "metadata": {},
   "outputs": [],
   "source": []
  },
  {
   "cell_type": "code",
   "execution_count": 103,
   "id": "3cae905f",
   "metadata": {},
   "outputs": [],
   "source": [
    "string = 'abcdfe2a354a32a'"
   ]
  },
  {
   "cell_type": "code",
   "execution_count": 104,
   "id": "133905c3",
   "metadata": {},
   "outputs": [
    {
     "data": {
      "text/plain": [
       "'Abcdfe2A354A32A'"
      ]
     },
     "execution_count": 104,
     "metadata": {},
     "output_type": "execute_result"
    }
   ],
   "source": [
    "string.replace('a', 'A')"
   ]
  },
  {
   "cell_type": "code",
   "execution_count": null,
   "id": "4adbfff6",
   "metadata": {},
   "outputs": [],
   "source": []
  },
  {
   "cell_type": "code",
   "execution_count": 105,
   "id": "b970e4d0",
   "metadata": {},
   "outputs": [],
   "source": [
    "string = 'abcd'"
   ]
  },
  {
   "cell_type": "code",
   "execution_count": 106,
   "id": "b2ac1349",
   "metadata": {},
   "outputs": [
    {
     "data": {
      "text/plain": [
       "'aBcd'"
      ]
     },
     "execution_count": 106,
     "metadata": {},
     "output_type": "execute_result"
    }
   ],
   "source": [
    "string.replace('b', 'B')"
   ]
  },
  {
   "cell_type": "code",
   "execution_count": 107,
   "id": "5183e233",
   "metadata": {},
   "outputs": [
    {
     "name": "stdout",
     "output_type": "stream",
     "text": [
      "abcd\n"
     ]
    }
   ],
   "source": [
    "print(string)"
   ]
  },
  {
   "cell_type": "code",
   "execution_count": null,
   "id": "4a634189",
   "metadata": {},
   "outputs": [],
   "source": []
  },
  {
   "cell_type": "code",
   "execution_count": null,
   "id": "c337b9b2",
   "metadata": {},
   "outputs": [],
   "source": []
  },
  {
   "cell_type": "code",
   "execution_count": 108,
   "id": "b35e7b76",
   "metadata": {},
   "outputs": [],
   "source": [
    "a = \"3\""
   ]
  },
  {
   "cell_type": "code",
   "execution_count": 109,
   "id": "d2713b46",
   "metadata": {},
   "outputs": [],
   "source": [
    "b = \"4\""
   ]
  },
  {
   "cell_type": "code",
   "execution_count": 110,
   "id": "9557b0f3",
   "metadata": {},
   "outputs": [
    {
     "data": {
      "text/plain": [
       "'34'"
      ]
     },
     "execution_count": 110,
     "metadata": {},
     "output_type": "execute_result"
    }
   ],
   "source": [
    "a + b"
   ]
  },
  {
   "cell_type": "code",
   "execution_count": 111,
   "id": "e0518257",
   "metadata": {},
   "outputs": [
    {
     "data": {
      "text/plain": [
       "'HiHiHi'"
      ]
     },
     "execution_count": 111,
     "metadata": {},
     "output_type": "execute_result"
    }
   ],
   "source": [
    "\"Hi\" * 3"
   ]
  },
  {
   "cell_type": "code",
   "execution_count": 112,
   "id": "ebcaab9e",
   "metadata": {},
   "outputs": [
    {
     "data": {
      "text/plain": [
       "'3333333333'"
      ]
     },
     "execution_count": 112,
     "metadata": {},
     "output_type": "execute_result"
    }
   ],
   "source": [
    "a * 10"
   ]
  },
  {
   "cell_type": "code",
   "execution_count": 113,
   "id": "b8589dac",
   "metadata": {},
   "outputs": [
    {
     "data": {
      "text/plain": [
       "'--------------------------------------------------------------------------------'"
      ]
     },
     "execution_count": 113,
     "metadata": {},
     "output_type": "execute_result"
    }
   ],
   "source": [
    "'-' * 80"
   ]
  },
  {
   "cell_type": "code",
   "execution_count": 114,
   "id": "a93063f0",
   "metadata": {},
   "outputs": [],
   "source": [
    "t1 = 'python'"
   ]
  },
  {
   "cell_type": "code",
   "execution_count": 115,
   "id": "f520b481",
   "metadata": {},
   "outputs": [],
   "source": [
    "t2 = 'java'"
   ]
  },
  {
   "cell_type": "code",
   "execution_count": 120,
   "id": "b22b0d62",
   "metadata": {},
   "outputs": [
    {
     "data": {
      "text/plain": [
       "'python java python java python java python java '"
      ]
     },
     "execution_count": 120,
     "metadata": {},
     "output_type": "execute_result"
    }
   ],
   "source": [
    "(t1 + ' ' + t2 + ' ') * 4"
   ]
  },
  {
   "cell_type": "code",
   "execution_count": null,
   "id": "aa3d7897",
   "metadata": {},
   "outputs": [],
   "source": []
  },
  {
   "cell_type": "code",
   "execution_count": null,
   "id": "e6d4fb5b",
   "metadata": {},
   "outputs": [],
   "source": []
  },
  {
   "cell_type": "code",
   "execution_count": 121,
   "id": "88bbe03d",
   "metadata": {},
   "outputs": [],
   "source": [
    "name1 = \"김민수\" \n",
    "age1 = 10\n",
    "name2 = \"이철희\"\n",
    "age2 = 13"
   ]
  },
  {
   "cell_type": "code",
   "execution_count": null,
   "id": "3d1feb07",
   "metadata": {},
   "outputs": [],
   "source": [
    "# 이름: 김민수 나이: 10\n",
    "# 이름: 이철희 나이: 13"
   ]
  },
  {
   "cell_type": "code",
   "execution_count": 123,
   "id": "68e27122",
   "metadata": {},
   "outputs": [
    {
     "data": {
      "text/plain": [
       "'이름: 김민수 나이: 10'"
      ]
     },
     "execution_count": 123,
     "metadata": {},
     "output_type": "execute_result"
    }
   ],
   "source": [
    "'이름: ' + name1 + ' 나이: ' + str(age1)"
   ]
  },
  {
   "cell_type": "code",
   "execution_count": 124,
   "id": "c0e2c6eb",
   "metadata": {},
   "outputs": [
    {
     "name": "stdout",
     "output_type": "stream",
     "text": [
      "이름: 김민수 나이: 10\n"
     ]
    }
   ],
   "source": [
    "print('이름:', name1, '나이:', age1)"
   ]
  },
  {
   "cell_type": "code",
   "execution_count": 125,
   "id": "657b9497",
   "metadata": {},
   "outputs": [
    {
     "data": {
      "text/plain": [
       "'이름: 김민수 나이: 10'"
      ]
     },
     "execution_count": 125,
     "metadata": {},
     "output_type": "execute_result"
    }
   ],
   "source": [
    "'이름: {} 나이: {}'.format(name1, age1)"
   ]
  },
  {
   "cell_type": "code",
   "execution_count": 127,
   "id": "c906505b",
   "metadata": {},
   "outputs": [
    {
     "name": "stdout",
     "output_type": "stream",
     "text": [
      "이름: 김민수 나이: 10\n"
     ]
    }
   ],
   "source": [
    "print(f'이름: {name1} 나이: {age1}')"
   ]
  },
  {
   "cell_type": "code",
   "execution_count": null,
   "id": "4f0aa49f",
   "metadata": {},
   "outputs": [],
   "source": []
  },
  {
   "cell_type": "code",
   "execution_count": 128,
   "id": "40409b65",
   "metadata": {},
   "outputs": [],
   "source": [
    "상장주식수 = \"5,969,782,550\""
   ]
  },
  {
   "cell_type": "code",
   "execution_count": 130,
   "id": "b4cd7abc",
   "metadata": {},
   "outputs": [],
   "source": [
    "price = 상장주식수.replace(',', '')"
   ]
  },
  {
   "cell_type": "code",
   "execution_count": 131,
   "id": "80017a6e",
   "metadata": {},
   "outputs": [
    {
     "data": {
      "text/plain": [
       "'5969782550'"
      ]
     },
     "execution_count": 131,
     "metadata": {},
     "output_type": "execute_result"
    }
   ],
   "source": [
    "price"
   ]
  },
  {
   "cell_type": "code",
   "execution_count": 133,
   "id": "301b4b11",
   "metadata": {},
   "outputs": [],
   "source": [
    "price = int(price)"
   ]
  },
  {
   "cell_type": "code",
   "execution_count": 134,
   "id": "9296fa0a",
   "metadata": {},
   "outputs": [
    {
     "data": {
      "text/plain": [
       "5969782550"
      ]
     },
     "execution_count": 134,
     "metadata": {},
     "output_type": "execute_result"
    }
   ],
   "source": [
    "price"
   ]
  },
  {
   "cell_type": "code",
   "execution_count": null,
   "id": "4ccf43c2",
   "metadata": {},
   "outputs": [],
   "source": []
  },
  {
   "cell_type": "code",
   "execution_count": 135,
   "id": "401442c5",
   "metadata": {},
   "outputs": [],
   "source": [
    "분기 = \"2020/03(E) (IFRS연결)\""
   ]
  },
  {
   "cell_type": "code",
   "execution_count": 138,
   "id": "adac542d",
   "metadata": {},
   "outputs": [
    {
     "data": {
      "text/plain": [
       "'2020/03'"
      ]
     },
     "execution_count": 138,
     "metadata": {},
     "output_type": "execute_result"
    }
   ],
   "source": [
    "분기[ : 6+1 ]"
   ]
  },
  {
   "cell_type": "code",
   "execution_count": null,
   "id": "cc0a12fd",
   "metadata": {},
   "outputs": [],
   "source": []
  },
  {
   "cell_type": "code",
   "execution_count": 140,
   "id": "10ff8e04",
   "metadata": {},
   "outputs": [],
   "source": [
    "data = \"   삼성  전자    \""
   ]
  },
  {
   "cell_type": "code",
   "execution_count": 141,
   "id": "398b9eb8",
   "metadata": {},
   "outputs": [
    {
     "data": {
      "text/plain": [
       "'삼성  전자'"
      ]
     },
     "execution_count": 141,
     "metadata": {},
     "output_type": "execute_result"
    }
   ],
   "source": [
    "data.strip()"
   ]
  },
  {
   "cell_type": "code",
   "execution_count": null,
   "id": "f50cfa44",
   "metadata": {},
   "outputs": [],
   "source": []
  },
  {
   "cell_type": "code",
   "execution_count": null,
   "id": "667d2180",
   "metadata": {},
   "outputs": [],
   "source": []
  },
  {
   "cell_type": "code",
   "execution_count": null,
   "id": "832d6f97",
   "metadata": {},
   "outputs": [],
   "source": []
  },
  {
   "cell_type": "code",
   "execution_count": null,
   "id": "4dffdcb2",
   "metadata": {},
   "outputs": [],
   "source": []
  }
 ],
 "metadata": {
  "kernelspec": {
   "display_name": "Python 3 (ipykernel)",
   "language": "python",
   "name": "python3"
  },
  "language_info": {
   "codemirror_mode": {
    "name": "ipython",
    "version": 3
   },
   "file_extension": ".py",
   "mimetype": "text/x-python",
   "name": "python",
   "nbconvert_exporter": "python",
   "pygments_lexer": "ipython3",
   "version": "3.8.13"
  }
 },
 "nbformat": 4,
 "nbformat_minor": 5
}
